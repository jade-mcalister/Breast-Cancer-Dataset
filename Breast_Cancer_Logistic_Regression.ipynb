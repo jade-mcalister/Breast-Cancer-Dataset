{
  "nbformat": 4,
  "nbformat_minor": 0,
  "metadata": {
    "colab": {
      "provenance": [],
      "authorship_tag": "ABX9TyPTzjwGJmDtIHwSgqM1w6eH",
      "include_colab_link": true
    },
    "kernelspec": {
      "name": "python3",
      "display_name": "Python 3"
    },
    "language_info": {
      "name": "python"
    }
  },
  "cells": [
    {
      "cell_type": "markdown",
      "metadata": {
        "id": "view-in-github",
        "colab_type": "text"
      },
      "source": [
        "<a href=\"https://colab.research.google.com/github/jade-mcalister/Breast-Cancer-Dataset/blob/development/Breast_Cancer_Logistic_Regression.ipynb\" target=\"_parent\"><img src=\"https://colab.research.google.com/assets/colab-badge.svg\" alt=\"Open In Colab\"/></a>"
      ]
    },
    {
      "cell_type": "code",
      "execution_count": 1,
      "metadata": {
        "colab": {
          "base_uri": "https://localhost:8080/"
        },
        "id": "YCdHz_ZEdJHd",
        "outputId": "165f79cc-e871-4bcf-87f1-9b83762fbc4f"
      },
      "outputs": [
        {
          "output_type": "stream",
          "name": "stderr",
          "text": [
            "<ipython-input-1-8010885536b7>:31: RuntimeWarning: overflow encountered in exp\n",
            "  return 1/(1+np.exp(-z))\n"
          ]
        }
      ],
      "source": [
        "# Import libraries\n",
        "from sklearn.model_selection import train_test_split\n",
        "from sklearn import datasets\n",
        "from sklearn.metrics import mean_squared_error\n",
        "import pandas as pd\n",
        "import matplotlib.pyplot as plt\n",
        "from sklearn.datasets import load_breast_cancer\n",
        "import numpy as np\n",
        "\n",
        "data = load_breast_cancer()\n",
        "list(data.target_names)\n",
        "['malignant', 'benign']\n",
        "\n",
        "# Read data\n",
        "X,y = data.data, data.target\n",
        "\n",
        "# Split data\n",
        "X_train, X_test, y_train, y_test = train_test_split(X, y, test_size= 0.3, random_state = 1111)\n",
        "\n",
        "class LogisticRegression:\n",
        "\n",
        "  # Constructor\n",
        "  def __init__(self, learning_rate=0.05):\n",
        "    self.learning_rate=learning_rate\n",
        "    # Initializing weights and bias\n",
        "    self.weights = None\n",
        "    self.bias=0\n",
        "\n",
        "  # Sigmoid function\n",
        "  def sigmoid(self, z):\n",
        "    return 1/(1+np.exp(-z))\n",
        "\n",
        "  def fit(self, X, y):\n",
        "    n_samples, n_features=X.shape\n",
        "\n",
        "    if self.weights is None:\n",
        "      self.weights=np.zeros(n_features, dtype=np.float128)\n",
        "\n",
        "    # Gradient descent\n",
        "    linear_combination = np.dot(X, self.weights) + self.bias #y=wx+b\n",
        "    y_predicted = self.sigmoid(linear_combination) #implements sigmoid function\n",
        "\n",
        "    # Gradient derivatives for weights and bias\n",
        "    dw=(1/n_samples)*np.dot(X.T, (y_predicted -y))\n",
        "    db=(1/n_samples)*np.sum(y_predicted-y)\n",
        "\n",
        "    # Update weights\n",
        "    self.weights-=self.learning_rate*dw\n",
        "    self.bias-=self.learning_rate*db\n",
        "\n",
        "  def predict(self, X):\n",
        "    linear_combination=np.dot(X, self.weights)+self.bias #y=wx+b\n",
        "    y_predicted = self.sigmoid(linear_combination)\n",
        "\n",
        "    # Rounds to zero or 1\n",
        "    y_predicted_label=[]\n",
        "    for i in range(len(y_predicted)):\n",
        "      if y_predicted[i] >= 0.5:\n",
        "        y_predicted_label.append(1)\n",
        "      else:\n",
        "        y_predicted_label.append(0)\n",
        "\n",
        "    return y_predicted_label\n",
        "\n",
        "def accuracy(y_actual, y_predicted):\n",
        "  accuracy=np.sum(y_actual==y_predicted)/ len(y_actual)\n",
        "  return accuracy\n",
        "\n",
        "acc=[]\n",
        "itr=[]\n",
        "\n",
        "regressor = LogisticRegression(learning_rate=0.05)\n",
        "\n",
        "for i in range(10000):\n",
        "  regressor.fit(X_train, y_train)\n",
        "  itr.append(i)\n",
        "\n",
        "  predictions=regressor.predict(X_test)\n",
        "  acc.append(accuracy(y_test, predictions))\n"
      ]
    },
    {
      "cell_type": "code",
      "source": [
        "print(\"Logistic Regression Accuracy: \", acc[len(acc)-1])"
      ],
      "metadata": {
        "colab": {
          "base_uri": "https://localhost:8080/"
        },
        "id": "Z93cduCwdLh2",
        "outputId": "bd5b2bf2-df63-49b1-f58e-6efc3b0fdd96"
      },
      "execution_count": 2,
      "outputs": [
        {
          "output_type": "stream",
          "name": "stdout",
          "text": [
            "Logistic Regression Accuracy:  0.9064327485380117\n"
          ]
        }
      ]
    }
  ]
}