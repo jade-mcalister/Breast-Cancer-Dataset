{
  "nbformat": 4,
  "nbformat_minor": 0,
  "metadata": {
    "colab": {
      "provenance": [],
      "authorship_tag": "ABX9TyN1Y06BK3CAYYJJxERPQdf8",
      "include_colab_link": true
    },
    "kernelspec": {
      "name": "python3",
      "display_name": "Python 3"
    },
    "language_info": {
      "name": "python"
    }
  },
  "cells": [
    {
      "cell_type": "markdown",
      "metadata": {
        "id": "view-in-github",
        "colab_type": "text"
      },
      "source": [
        "<a href=\"https://colab.research.google.com/github/jade-mcalister/Breast-Cancer-Dataset/blob/development/Breast_Cancer_FFN_From_Scratch.ipynb\" target=\"_parent\"><img src=\"https://colab.research.google.com/assets/colab-badge.svg\" alt=\"Open In Colab\"/></a>"
      ]
    },
    {
      "cell_type": "code",
      "execution_count": 4,
      "metadata": {
        "colab": {
          "base_uri": "https://localhost:8080/"
        },
        "id": "avuVARfrcYuZ",
        "outputId": "20446736-cbf8-4d18-a5ed-60c8bff9824f"
      },
      "outputs": [
        {
          "output_type": "stream",
          "name": "stderr",
          "text": [
            "<ipython-input-4-1187db264ba1>:31: RuntimeWarning: overflow encountered in exp\n",
            "  return 1/(1+np.exp(-z))\n"
          ]
        },
        {
          "output_type": "stream",
          "name": "stdout",
          "text": [
            "FFN Accuracy: 0.6081871345029239\n"
          ]
        }
      ],
      "source": [
        "# Import libraries\n",
        "from sklearn.model_selection import train_test_split\n",
        "from sklearn import datasets\n",
        "from sklearn.metrics import mean_squared_error\n",
        "import pandas as pd\n",
        "import matplotlib.pyplot as plt\n",
        "from sklearn.datasets import load_breast_cancer\n",
        "import numpy as np\n",
        "\n",
        "data = load_breast_cancer()\n",
        "list(data.target_names)\n",
        "['malignant', 'benign']\n",
        "\n",
        "# Read data\n",
        "X,y = data.data, data.target\n",
        "\n",
        "# Split data\n",
        "X_train, X_test, y_train, y_test = train_test_split(X, y, test_size= 0.3, random_state = 1111)\n",
        "\n",
        "class LogisticRegression:\n",
        "\n",
        "  # Constructor\n",
        "  def __init__(self, learning_rate=0.05):\n",
        "    self.learning_rate=learning_rate\n",
        "    # Initializing weights and bias\n",
        "    self.weights = None\n",
        "    self.bias=0\n",
        "\n",
        "  # Sigmoid function\n",
        "  def sigmoid(self, z):\n",
        "    return 1/(1+np.exp(-z))\n",
        "\n",
        "  def fit(self, X, y):\n",
        "    n_samples, n_features=X.shape\n",
        "\n",
        "    if self.weights is None:\n",
        "      self.weights=np.zeros(n_features, dtype=np.float128)\n",
        "\n",
        "    # Gradient descent\n",
        "    linear_combination = np.dot(X, self.weights) + self.bias #y=wx+b\n",
        "    y_predicted = self.sigmoid(linear_combination) #implements sigmoid function\n",
        "\n",
        "    # Gradient derivatives for weights and bias\n",
        "    dw=(1/n_samples)*np.dot(X.T, (y_predicted -y))\n",
        "    db=(1/n_samples)*np.sum(y_predicted-y)\n",
        "\n",
        "    # Update weights\n",
        "    self.weights-=self.learning_rate*dw\n",
        "    self.bias-=self.learning_rate*db\n",
        "\n",
        "  def predict(self, X):\n",
        "    linear_combination=np.dot(X, self.weights)+self.bias #y=wx+b\n",
        "    y_predicted = self.sigmoid(linear_combination)\n",
        "\n",
        "    # Rounds to zero or 1\n",
        "    y_predicted_label=[]\n",
        "    for i in range(len(y_predicted)):\n",
        "      if y_predicted[i] >= 0.5:\n",
        "        y_predicted_label.append(1)\n",
        "      else:\n",
        "        y_predicted_label.append(0)\n",
        "\n",
        "    return y_predicted_label\n",
        "\n",
        "def accuracy(y_actual, y_predicted):\n",
        "  accuracy=np.sum(y_actual==y_predicted)/ len(y_actual)\n",
        "  return accuracy\n",
        "\n",
        "acc=[]\n",
        "itr=[]\n",
        "\n",
        "regressor = LogisticRegression(learning_rate=0.05)\n",
        "\n",
        "for i in range(10000):\n",
        "  regressor.fit(X_train, y_train)\n",
        "  itr.append(i)\n",
        "\n",
        "  predictions=regressor.predict(X_test)\n",
        "  acc.append(accuracy(y_test, predictions))\n",
        "\n",
        "class FFN:\n",
        "  def __init__(self, learning_rate=0.05):\n",
        "    self.learning_rate=learning_rate\n",
        "    self.bias={}\n",
        "    self.weights={}\n",
        "\n",
        "  #initialize layers\n",
        "  input_neurons=X_train.shape[1]\n",
        "  hidden_neurons=4\n",
        "  output_neuron=1\n",
        "\n",
        "  #sigmoid function\n",
        "  def sigmoid(z):\n",
        "    return 1/(1+np.exp(-z))\n",
        "\n",
        "  #initialize random weights and biases\n",
        "  learning_rate=0.05\n",
        "  weights_input_hidden = np.random.uniform(size=(input_neurons, hidden_neurons))\n",
        "  biases_input_hidden = np.random.uniform(size=(1, hidden_neurons))\n",
        "\n",
        "  weights_hidden_output = np.random.uniform(size=(hidden_neurons, output_neuron))\n",
        "  biases_hidden_output = np.random.uniform(size=(1, output_neuron))\n",
        "\n",
        "  #forward propagation\n",
        "  def forward_pass(self, weights_input_hidden, biases_input_hidden, weights_hidden_output, biases_hidden_output, n_samples):\n",
        "    hidden_layer_input = np.dot(X_train, weights_input_hidden) + biases_input_hidden #y=wx+b\n",
        "    hidden_layer_output = self.sigmoid(hidden_layer_input) #implement sigmoid function\n",
        "    output_layer_input = np.dot(hidden_layer_output, weights_hidden_output) + biases_hidden_output #y=wx+b\n",
        "    output = self.sigmoid(output_layer_input) #implement sigmoid function\n",
        "\n",
        "  #back propagation\n",
        "\n",
        "    #gradient descent\n",
        "    linear_combination = np.dot(X, self.weights) + self.bias #y=wx+b\n",
        "    y_predicted = self.sigmoid(linear_combination) #implements sigmoid function\n",
        "\n",
        "    def gradients(output):\n",
        "      return output*(1-output)\n",
        "\n",
        "    #error calculation\n",
        "    errors=[]\n",
        "    dw1 = gradients(hidden_layer_input)\n",
        "    dw2 = gradients(hidden_layer_output)\n",
        "    dw3 = gradients(output_layer_input)\n",
        "    dw4 = gradients(output)\n",
        "    errors.append((output - y_predicted) * dw1)\n",
        "    errors.append((output - y_predicted) * dw2)\n",
        "    errors.append((output - y_predicted) * dw3)\n",
        "    errors.append((output - y_predicted) * dw4)\n",
        "\n",
        "    #update weights\n",
        "    self.weights-=self.learning_rate*self.dw\n",
        "    self.bias-=self.learning_rate*self.db\n",
        "\n",
        "  regressor = LogisticRegression(learning_rate=0.05)\n",
        "  hidden_layer_input = np.dot(X_test, weights_input_hidden) + biases_input_hidden\n",
        "  hidden_layer_output = sigmoid(hidden_layer_input)\n",
        "\n",
        "  output_layer_input = np.dot(hidden_layer_output, weights_hidden_output) + biases_hidden_output\n",
        "  output = sigmoid(output_layer_input)\n",
        "\n",
        "  # Round output to 0 or 1\n",
        "  predictions = (output > 0.5).astype(int)\n",
        "\n",
        "  # Accuracy\n",
        "  accuracy = np.mean(predictions == y_test.reshape(-1, 1))\n",
        "  print(\"FFN Accuracy:\", accuracy)\n",
        "  loss=[]\n",
        "  for i in range(10000):\n",
        "    regressor.fit(X_train, y_train)\n",
        "    predictions=regressor.predict(X_test)\n"
      ]
    },
    {
      "cell_type": "code",
      "source": [
        "print(\"Logistic Regression Accuracy: \", acc[len(acc)-1])"
      ],
      "metadata": {
        "id": "6KZpg3_-eoyv",
        "outputId": "870d1e5c-abfd-4e58-f4b3-417f5ca2d476",
        "colab": {
          "base_uri": "https://localhost:8080/"
        }
      },
      "execution_count": 5,
      "outputs": [
        {
          "output_type": "stream",
          "name": "stdout",
          "text": [
            "Logistic Regression Accuracy:  0.9064327485380117\n"
          ]
        }
      ]
    },
    {
      "cell_type": "code",
      "source": [
        "#plt.scatter(itr,acc,color=\"r\")\n",
        "plt.plot(itr,acc)\n",
        "plt.xlabel(\"Number of iterations\")\n",
        "plt.ylabel(\"Accuracy\")"
      ],
      "metadata": {
        "colab": {
          "base_uri": "https://localhost:8080/",
          "height": 466
        },
        "id": "7tHlXDE0chvT",
        "outputId": "e8b7ad56-0008-4fb8-cd3e-ce7952f17202"
      },
      "execution_count": 6,
      "outputs": [
        {
          "output_type": "execute_result",
          "data": {
            "text/plain": [
              "Text(0, 0.5, 'Accuracy')"
            ]
          },
          "metadata": {},
          "execution_count": 6
        },
        {
          "output_type": "display_data",
          "data": {
            "text/plain": [
              "<Figure size 640x480 with 1 Axes>"
            ],
            "image/png": "[encoded data removed]"
          },
          "metadata": {}
        }
      ]
    }
  ]
}